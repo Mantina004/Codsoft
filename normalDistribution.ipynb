{
  "nbformat": 4,
  "nbformat_minor": 0,
  "metadata": {
    "colab": {
      "provenance": [],
      "authorship_tag": "ABX9TyOScKKNHBaPBRBl1A4VefUZ",
      "include_colab_link": true
    },
    "kernelspec": {
      "name": "python3",
      "display_name": "Python 3"
    },
    "language_info": {
      "name": "python"
    }
  },
  "cells": [
    {
      "cell_type": "markdown",
      "metadata": {
        "id": "view-in-github",
        "colab_type": "text"
      },
      "source": [
        "<a href=\"https://colab.research.google.com/github/Mantina004/Codsoft/blob/main/normalDistribution.ipynb\" target=\"_parent\"><img src=\"https://colab.research.google.com/assets/colab-badge.svg\" alt=\"Open In Colab\"/></a>"
      ]
    },
    {
      "cell_type": "code",
      "source": [
        "import numpy as np\n",
        "import matplotlib.pyplot as plt\n",
        "from scipy.stats import norm\n",
        "\n",
        "# Parameters\n",
        "mean = 70\n",
        "std_dev = (94 - 54) / 4  # Assuming a standard deviation of 1/4 of the range\n",
        "num_students = 30\n",
        "min_marks = 54\n",
        "max_marks = 94\n",
        "\n",
        "# Generate random marks\n",
        "marks = np.random.normal(mean, std_dev, num_students)\n",
        "marks = np.clip(marks, min_marks, max_marks)\n",
        "\n",
        "# Calculate the standard deviation\n",
        "std_dev = np.std(marks)\n",
        "\n",
        "# Plot the distribution\n",
        "plt.hist(marks, bins=10, density=True, alpha=0.6, color='b', edgecolor='black')\n",
        "\n",
        "# Plot the normal distribution curve\n",
        "x = np.linspace(min_marks, max_marks, 1000)\n",
        "p = norm.pdf(x, mean, std_dev)\n",
        "plt.plot(x, p, 'k', linewidth=2)\n",
        "\n",
        "title = \"Normal Distribution of Student Marks\\nMean: {:.2f}, Std Dev: {:.2f}\".format(mean, std_dev)\n",
        "plt.title(title)\n",
        "plt.xlabel(\"Marks (%)\")\n",
        "plt.ylabel(\"Probability Density\")\n",
        "\n",
        "plt.show()"
      ],
      "metadata": {
        "id": "QMrl12pOXfx3"
      },
      "execution_count": null,
      "outputs": []
    }
  ]
}